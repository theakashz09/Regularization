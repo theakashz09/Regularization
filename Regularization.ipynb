{
  "nbformat": 4,
  "nbformat_minor": 0,
  "metadata": {
    "colab": {
      "provenance": []
    },
    "kernelspec": {
      "name": "python3",
      "display_name": "Python 3"
    },
    "language_info": {
      "name": "python"
    }
  },
  "cells": [
    {
      "cell_type": "code",
      "execution_count": null,
      "metadata": {
        "id": "b26yHBBQzUf9"
      },
      "outputs": [],
      "source": []
    },
    {
      "cell_type": "markdown",
      "source": [
        "# Understanding Regularization"
      ],
      "metadata": {
        "id": "O8oCzzEIz5PR"
      }
    },
    {
      "cell_type": "markdown",
      "source": [
        "## Q1. What is regularization in the context of deep learning? Why is it important?"
      ],
      "metadata": {
        "id": "FvoiHSG_z8J_"
      }
    },
    {
      "cell_type": "markdown",
      "source": [
        "Ans = **Regularization** refers to a set of techniques that are used to prevent a neural network from overfitting the training data. Overfitting occurs when a model learns to fit the training data extremely well but fails to generalize to unseen or new data. Regularization techniques are essential for improving a model's ability to generalize to new data and avoid overfitting.\n",
        "\n",
        "### Importance of Regularization:\n",
        "\n",
        "1. **Preventing Overfitting:** The primary goal of regularization is to prevent overfitting. Overfit models have high complexity and tend to capture noise in the training data, leading to poor generalization. Regularization techniques constrain the model's capacity and steer it towards learning meaningful patterns.\n",
        "\n",
        "2. **Improved Generalization:** By reducing overfitting, regularization helps models generalize better to unseen data. This is crucial for real-world applications where the model encounters data it hasn't seen during training.\n",
        "\n",
        "3. **Stability:** Regularization techniques often make the training process more stable. Without regularization, models can exhibit erratic behavior, such as drastic changes in weights during training.\n",
        "\n",
        "4. **Reducing Model Complexity:** Deep neural networks have a large number of parameters, which can make them prone to overfitting. Regularization techniques help in reducing the effective complexity of the model, making it more manageable.\n",
        "\n",
        "### Types of Regularization\n",
        "\n",
        "1. **L1 Regularization (Lasso):** Adds a penalty term based on the absolute values of the weights, encouraging sparsity by driving some weights to exactly zero. It can be used for feature selection.\n",
        "\n",
        "2. **L2 Regularization (Ridge):** Adds a penalty term based on the squared values of the weights, discouraging large weights and promoting smoother decision boundaries.\n",
        "\n",
        "3. **Dropout:** During training, randomly deactivates a fraction of neurons, introducing noise and promoting robustness.\n",
        "\n",
        "4. **Early Stopping:** Monitors the model's performance on a validation dataset and stops training when performance starts to degrade.\n",
        "\n",
        "5. **Data Augmentation:** Increases the size of the training dataset by applying random transformations to the input data (e.g., rotation, translation, or cropping).\n",
        "\n",
        "6. **Weight Constraints:** Limits the magnitude of weights by imposing constraints (e.g., weight clipping).\n",
        "\n",
        "7. **Ensemble Methods:** Combines predictions from multiple neural networks to improve generalization (e.g., bagging, boosting).\n",
        "\n",
        "8. **Noise Injection:** Adds random noise to input data or during training to increase robustness.\n",
        "\n",
        "9. **Batch Normalization:** Stabilizes and accelerates training, indirectly acting as regularization by introducing noise and reducing sensitivity to initialization.\n",
        "\n",
        "10. **Gradient Clipping:** Limits the magnitude of gradients during training to prevent exploding gradients.\n",
        "\n",
        "11. **Label Smoothing:** Smooths one-hot encoded labels to make them less extreme, reducing overfitting.\n",
        "\n",
        "12. **Mixup:** Combines pairs of training samples and their labels to create new samples, encouraging the model to interpolate between examples.\n",
        "\n",
        "\n",
        "Regularization techniques can be used individually or in combination to achieve the desired level of regularization for a specific problem. The choice of regularization method and its hyperparameters depends on the dataset, model architecture, and the degree of overfitting observed during training. By applying regularization effectively, deep learning models can strike a balance between fitting the training data well and generalizing to unseen data."
      ],
      "metadata": {
        "id": "MRZufEqp0A2O"
      }
    },
    {
      "cell_type": "code",
      "source": [],
      "metadata": {
        "id": "1f8FdkfFz89D"
      },
      "execution_count": null,
      "outputs": []
    },
    {
      "cell_type": "markdown",
      "source": [
        "## Q2. Explain the bias-variance tradeoff and how regularization helps in addressing this tradeoff?\n",
        "\n",
        "Ans = The **bias-variance tradeoff** is a fundamental concept in machine learning that relates to a model's ability to generalize from training data to unseen or new data. It describes the balance between two sources of error that affect the performance of a machine learning model:\n",
        "\n",
        "1. **Bias:** Bias refers to the error introduced by approximating a real-world problem that may be complex by a too simplistic model. High bias can lead to underfitting, where the model fails to capture the underlying patterns in the data. Models with high bias have limited expressive power and make strong assumptions about the data.\n",
        "\n",
        "2. **Variance:** Variance refers to the error introduced by the model's sensitivity to small fluctuations or noise in the training data. High variance can lead to overfitting, where the model fits the training data extremely well but fails to generalize to new data. Models with high variance are often overly complex and capture noise in the data.\n",
        "\n",
        "**The tradeoff symbolizes:**\n",
        "\n",
        "- **High Bias, Low Variance:** Models with high bias and low variance are simple and make strong assumptions about the data. They may underfit the training data.\n",
        "\n",
        "- **Low Bias, High Variance:** Models with low bias and high variance are complex and can fit the training data very closely. They may overfit the training data.\n",
        "\n",
        "- **Balanced Tradeoff:** Ideally, you want to strike a balance between bias and variance. You want a model that is complex enough to capture the underlying patterns in the data but not so complex that it fits the noise.\n",
        "\n",
        "**How Regularization Helps in Addressing the Bias-Variance Tradeoff:**\n",
        "\n",
        "Regularization techniques are used to control model complexity and help in addressing the bias-variance tradeoff:\n",
        "\n",
        "1. **Bias Reduction:** Regularization methods like L2 (Ridge) and L1 (Lasso) regularization add a penalty term to the loss function that discourages large weight values. This encourages the model to have smaller, more balanced weights and, in turn, reduces bias. It prevents the model from being too simplistic and helps it capture more complex patterns in the data.\n",
        "\n",
        "2. **Variance Reduction:** Regularization methods also help reduce variance by preventing the model from fitting the training data too closely. By adding a penalty for large weights, the model becomes less sensitive to noise in the training data. This results in a smoother decision boundary, which leads to better generalization to new data.\n",
        "\n",
        "3. **Optimal Balance:** By tuning the strength of regularization (e.g., the regularization parameter, lambda), you can find the optimal balance between bias and variance for your specific problem. Regularization allows you to control the model's complexity, making it possible to strike the right balance.\n",
        "\n",
        "4. **Preventing Overfitting:** Regularization techniques like dropout and early stopping can directly prevent overfitting by reducing the model's capacity to memorize the training data.\n",
        "\n",
        "Regularization techniques are a crucial tool in machine learning for addressing the bias-variance tradeoff. They help control model complexity, reduce overfitting, and enable models to generalize better to new data by finding an optimal balance between bias and variance."
      ],
      "metadata": {
        "id": "JwtlMvlT0D0-"
      }
    },
    {
      "cell_type": "code",
      "source": [],
      "metadata": {
        "id": "cUa-OFpS0F_y"
      },
      "execution_count": null,
      "outputs": []
    },
    {
      "cell_type": "markdown",
      "source": [
        "## Q3. Describe the concept of L1 and L2 regularization. How do they differ in terms of penalty calculation and their effects on the model?\n",
        "\n",
        "ans = **L1 and L2 regularization** are two common techniques used to prevent overfitting in machine learning models by adding a penalty term to the loss function. They differ in how they calculate and apply these penalty terms, resulting in different effects on the model's weights and, consequently, its behavior.\n",
        "\n",
        "**L1 Regularization (Lasso):**\n",
        "\n",
        "1. **Penalty Calculation:** L1 regularization adds a penalty term to the loss function that is proportional to the absolute values of the model's weights. It is calculated as the sum of the absolute values of the weights:\n",
        "\n",
        "   Penalty(L1) = λ * Σ|Wi|\n",
        "\n",
        "   - λ (lambda) is the regularization strength, a hyperparameter you can tune.\n",
        "   - Wi represents the weights of the model.\n",
        "\n",
        "2. **Effect on the Model:** L1 regularization encourages sparsity in the model by driving many weights to exactly zero. This means that L1 regularization can be used for feature selection because it effectively eliminates less important features from the model. Sparse models are simpler and more interpretable.\n",
        "\n",
        "3. **Use Cases:**\n",
        "   - L1 regularization is often used when you have a large number of features, and you suspect that only a subset of them is relevant to the task. It helps in feature selection by setting irrelevant feature weights to zero.\n",
        "\n",
        "**L2 Regularization (Ridge):**\n",
        "\n",
        "1. **Penalty Calculation:** L2 regularization adds a penalty term to the loss function that is proportional to the square of the model's weights. It is calculated as the sum of the squared values of the weights:\n",
        "\n",
        "   Penalty(L2) = λ * Σ(Wi^2)\n",
        "\n",
        "   - λ (lambda) is the regularization strength, a hyperparameter you can tune.\n",
        "   - Wi represents the weights of the model.\n",
        "\n",
        "2. **Effect on the Model:** L2 regularization encourages the weights of the model to be small but does not force them to be exactly zero. It distributes the penalty across all weights, making them small and preventing extreme values. This results in a smoother decision boundary.\n",
        "\n",
        "3. **Use Cases:**\n",
        "   - L2 regularization is a good choice when you want to prevent the model from having large weight values that might lead to overfitting. It helps in controlling the model's complexity by making all features contribute to the prediction.\n",
        "\n",
        "**Differences Between L1 and L2 Regularization:**\n",
        "\n",
        "1. **Effect on Weights:**\n",
        "   - L1 regularization tends to lead to sparse weight vectors with many weights set to exactly zero.\n",
        "   - L2 regularization shrinks all weights toward zero but rarely results in exactly zero weights.\n",
        "\n",
        "2. **Feature Selection:**\n",
        "   - L1 regularization can be used for feature selection because it encourages some features to have zero weights, effectively eliminating them from the model.\n",
        "   - L2 regularization does not perform feature selection in the same way and typically keeps all features in the model.\n",
        "\n",
        "3. **Smoothness of Decision Boundary:**\n",
        "   - L2 regularization results in smoother decision boundaries due to its ability to distribute the penalty across all weights.\n",
        "   - L1 regularization can lead to less smooth decision boundaries due to the sparsity it induces.\n",
        "\n",
        "A combination of L1 and L2 regularization, known as **Elastic Net regularization**, can also be used to benefit from both feature selection (L1) and weight shrinkage (L2)."
      ],
      "metadata": {
        "id": "UPUIDRsz0LzO"
      }
    },
    {
      "cell_type": "code",
      "source": [],
      "metadata": {
        "id": "OuaFJgE00QjL"
      },
      "execution_count": null,
      "outputs": []
    },
    {
      "cell_type": "markdown",
      "source": [
        "## Q4. Explain the concept of Batch Normalization and its role as a form of regularization. How does Batch Normalization help in preventing overfitting?\n",
        "\n",
        "Ans = **Batch Normalization (BatchNorm)** is a technique used in deep neural networks to stabilize and accelerate the training process. It normalizes the activations in a layer by scaling and shifting them, which helps prevent issues like vanishing gradients and accelerates convergence. While BatchNorm is primarily used for improving training dynamics, it also has an implicit regularization effect that helps in preventing overfitting.\n",
        "\n",
        "**Concept of Batch Normalization:**\n",
        "\n",
        "1. **Normalization:** In BatchNorm, during each mini-batch of training data, the activations (outputs) of a layer are normalized. This means that the mean and standard deviation of the activations within the mini-batch are calculated.\n",
        "\n",
        "2. **Scaling and Shifting:** After normalization, the activations are scaled by a learnable parameter (gamma) and shifted by another learnable parameter (beta). These parameters allow the model to learn the optimal scaling and shifting for the activations.\n",
        "\n",
        "3. **Batch Statistics:** The statistics (mean and standard deviation) used for normalization are specific to the current mini-batch. During inference (when making predictions), running averages of these statistics are used, which provide more stable estimates of the population statistics.\n",
        "\n",
        "**Role as a Form of Regularization:**\n",
        "\n",
        "1. **Noise Injection:** Because BatchNorm normalizes activations within each mini-batch, it introduces some noise during training. This noise can help the model generalize better to the data by acting as a form of regularization. The model learns to adapt to the noise, making it more robust to small variations in the input data.\n",
        "\n",
        "2. **Reduced Internal Covariate Shift:** BatchNorm reduces the internal covariate shift, which is the change in the distribution of activations within a network as training progresses. This can stabilize training and reduce the need for lower learning rates and careful weight initialization. By reducing internal covariate shift, BatchNorm indirectly helps in preventing overfitting.\n",
        "\n",
        "3. **Smoothing Decision Boundaries:** BatchNorm encourages smoother decision boundaries because it ensures that the activations have a consistent distribution within each mini-batch. This can make the model less sensitive to the noise in the training data and help it generalize better.\n",
        "\n",
        "4. **Regularization via Scaling:** The gamma parameter, which scales the normalized activations, can act as a form of regularization. If gamma is forced to be close to 1, it encourages the model to rely more on the raw activations, preventing over-regularization.\n",
        "\n",
        "5. **Enables Use of Higher Learning Rates:** BatchNorm often allows the use of higher learning rates during training, which can speed up convergence. Faster convergence can help prevent overfitting by reducing the number of training iterations.\n",
        "\n",
        "Batch Normalization not only improves the training dynamics of deep neural networks but also provides implicit regularization by introducing noise, reducing internal covariate shift, and encouraging smoother decision boundaries. It helps make models more robust and less prone to overfitting, especially in deep architectures. However, it's worth noting that while BatchNorm can help prevent overfitting to some extent, it may not be a complete replacement for other explicit regularization techniques like L1 or L2 regularization, dropout, or early stopping, depending on the specific problem and dataset."
      ],
      "metadata": {
        "id": "RuU8-HSX0TP_"
      }
    },
    {
      "cell_type": "code",
      "source": [],
      "metadata": {
        "id": "hjUyezGa0XaB"
      },
      "execution_count": null,
      "outputs": []
    },
    {
      "cell_type": "markdown",
      "source": [
        "# Regularization Techniques"
      ],
      "metadata": {
        "id": "WJO9FPuw0ZBF"
      }
    },
    {
      "cell_type": "markdown",
      "source": [
        "## Q5. Explain Dropout regularization and how it works to reduce overfitting.\n",
        "\n",
        "Ans = **Dropout regularization** is a powerful technique used in neural networks to prevent overfitting. It works by randomly deactivating (dropping out) a fraction of neurons during each forward and backward pass of training. Dropout encourages the network to learn redundant representations, making it more robust and less prone to overfitting.\n",
        "\n",
        "**How Dropout Regularization Works:**\n",
        "\n",
        "1. **Training Phase:**\n",
        "   - During training, at each forward pass (iteration), dropout randomly selects a subset of neurons to be \"dropped out\" or deactivated. These neurons are effectively set to zero for that particular pass.\n",
        "   - The probability of a neuron being dropped out is determined by a hyperparameter called the dropout rate (usually set between 0.2 and 0.5).\n",
        "   - Dropout is applied independently to each neuron, meaning different neurons may be dropped out in different iterations.\n",
        "\n",
        "2. **Testing Phase:**\n",
        "   - During testing or inference, dropout is not applied, and all neurons are active.\n",
        "   - To ensure the expected output of the model remains the same as during training, the weights of the neurons that were dropped out during training are typically scaled down by the dropout rate during testing. This is done to maintain the overall scale of the activations.\n",
        "\n",
        "**Dropout regularization** reduces overfitting by randomly deactivating a fraction of neurons during training, introducing noise, and preventing the model from relying too heavily on specific neurons. This encourages robustness, ensemble learning, and smoother decision boundaries, ultimately improving generalization."
      ],
      "metadata": {
        "id": "jGKtwEKS0bfe"
      }
    },
    {
      "cell_type": "code",
      "source": [],
      "metadata": {
        "id": "NEk_8alV0cJx"
      },
      "execution_count": null,
      "outputs": []
    },
    {
      "cell_type": "markdown",
      "source": [
        "## Q6. Discuss the impact of Dropout on model training and inference.\n",
        "\n",
        "Ans = **Impact of Dropout on Model Training and Inference**\n",
        "\n",
        "- **Training Phase:**\n",
        "   - During training, at each forward pass (iteration), dropout randomly selects a subset of neurons to be \"dropped out\" or deactivated. These neurons are effectively set to zero for that particular pass.\n",
        "   - The probability of a neuron being dropped out is determined by a hyperparameter called the dropout rate (usually set between 0.2 and 0.5).\n",
        "   - Dropout is applied independently to each neuron, meaning different neurons may be dropped out in different iterations.\n",
        "\n",
        "- **Inference Phase:**\n",
        "  - During inference, Dropout is turned off, and all neurons are active.\n",
        "  - To maintain the expected output scale, the weights of neurons that were dropped out during training are typically scaled down by the dropout rate during inference.\n",
        "  - The model, having trained with Dropout, tends to generalize better to new, unseen data during inference.\n"
      ],
      "metadata": {
        "id": "4idbVM6A0hzd"
      }
    },
    {
      "cell_type": "code",
      "source": [],
      "metadata": {
        "id": "eXsD-ujv0lVR"
      },
      "execution_count": null,
      "outputs": []
    },
    {
      "cell_type": "markdown",
      "source": [
        "## Q7. Describe the concept of Early Stopping as a form of regularization. How does it help prevent overfitting during the training process ?\n",
        "\n",
        "Ans = **Early stopping** is a regularization technique used to prevent overfitting during the training process of machine learning models, including neural networks. It involves monitoring the model's performance on a validation dataset during training and stopping the training process when the model's performance on the validation dataset starts to degrade. Here's how early stopping works and how it helps prevent overfitting:\n",
        "\n",
        "**How Early Stopping Works:**\n",
        "\n",
        "1. **Training Process:** During the training process, the model is iteratively updated to minimize a loss function based on the training data. The training data is used to adjust the model's weights and biases.\n",
        "\n",
        "2. **Validation Dataset:** A separate validation dataset, which is not used for training, is set aside. This dataset represents unseen data that the model has not encountered during training.\n",
        "\n",
        "3. **Monitoring Performance:** Periodically, typically after each epoch (complete pass through the training data), the model's performance is evaluated on the validation dataset. Common evaluation metrics include accuracy, loss, or other relevant metrics depending on the problem.\n",
        "\n",
        "4. **Early Stopping Criterion:** An early stopping criterion is defined, such as \"stop training if validation loss increases for N consecutive epochs\" or \"stop training if validation accuracy does not improve for N consecutive epochs.\"\n",
        "\n",
        "5. **Termination:** If the early stopping criterion is met, training is terminated before reaching the predefined number of epochs. The model with the best performance on the validation dataset up to that point is typically saved.\n",
        "\n",
        "**Early stopping** prevents overfitting by monitoring the model's performance on a validation dataset during training and stopping when validation performance starts to degrade. This ensures that the model generalizes well to new data and avoids learning noise or irrelevant patterns in the training data."
      ],
      "metadata": {
        "id": "Hvy9pBes0nGU"
      }
    },
    {
      "cell_type": "code",
      "source": [],
      "metadata": {
        "id": "ACD9jwvT0qcp"
      },
      "execution_count": null,
      "outputs": []
    },
    {
      "cell_type": "markdown",
      "source": [
        "## Q8. Explain the concept of Batch Normalization and its role as a form of regularization. How does Batch Normalization help in preventing overfitting?\n",
        "\n",
        "Ans = **Batch Normalization (BatchNorm)** is a technique used in deep neural networks to stabilize and accelerate the training process. While its primary purpose is not regularization, BatchNorm has a side effect that can be considered a form of regularization.\n",
        "\n",
        "**Concept of Batch Normalization:**\n",
        "\n",
        "1. **Normalization:** BatchNorm normalizes the activations (outputs) of a layer within each mini-batch of training data. This means it calculates the mean and standard deviation of the activations within the mini-batch.\n",
        "\n",
        "2. **Scaling and Shifting:** After normalization, BatchNorm scales the normalized activations by a learnable parameter (gamma) and shifts them by another learnable parameter (beta). These parameters allow the model to learn the optimal scaling and shifting for the activations.\n",
        "\n",
        "3. **Batch Statistics:** During training, BatchNorm calculates batch-specific statistics (mean and standard deviation). During inference, running averages of these statistics are used for normalization. This ensures that the model's behavior is consistent during training and inference.\n",
        "\n",
        "**Role as a Form of Regularization:**\n",
        "\n",
        "While BatchNorm's primary purpose is to stabilize training, it has some regularization effects:\n",
        "\n",
        "1. **Noise Injection:** BatchNorm introduces noise during training because it normalizes activations within each mini-batch. This noise can act as a form of regularization by making the model more robust and less prone to overfitting.\n",
        "\n",
        "2. **Reduced Internal Covariate Shift:** BatchNorm reduces the internal covariate shift, which is the change in the distribution of activations within a network as training progresses. By maintaining a more consistent distribution, BatchNorm stabilizes training and reduces the need for lower learning rates and careful weight initialization.\n",
        "\n",
        "3. **Smoothing Decision Boundaries:** BatchNorm encourages smoother decision boundaries because it ensures that activations have a consistent distribution within each mini-batch. Smoother decision boundaries improve generalization to new data and reduce overfitting.\n",
        "\n",
        "4. **Reduced Sensitivity to Initialization:** BatchNorm makes models less sensitive to the choice of weight initialization and learning rate, which can aid in preventing overfitting.\n",
        "\n",
        "**Batch Normalization** helps prevent overfitting by introducing noise, reducing internal covariate shift, and promoting smoother decision boundaries during training, ultimately making models more robust and less prone to overfitting."
      ],
      "metadata": {
        "id": "nfhoU8BZ0sXw"
      }
    },
    {
      "cell_type": "code",
      "source": [],
      "metadata": {
        "id": "MY_-EaCF0vmR"
      },
      "execution_count": null,
      "outputs": []
    },
    {
      "cell_type": "markdown",
      "source": [
        "# Applying Regularization"
      ],
      "metadata": {
        "id": "WpjJ386J0xZG"
      }
    },
    {
      "cell_type": "markdown",
      "source": [
        "## Q9. Implement Dropout regularization in a deep learning model using a framework of your choice. Evaluate its impact on model performance and compare it with a model without Dropout"
      ],
      "metadata": {
        "id": "CEKfm_JL00hU"
      }
    },
    {
      "cell_type": "code",
      "source": [
        "#Importing the libraries\n",
        "import keras\n",
        "import tensorflow as tf\n",
        "import pandas as pd\n",
        "import numpy as np\n",
        "import matplotlib.pyplot as plt\n",
        "import seaborn as sns\n",
        "from sklearn.model_selection import train_test_split"
      ],
      "metadata": {
        "id": "5tqy5gMa0yu4"
      },
      "execution_count": 1,
      "outputs": []
    },
    {
      "cell_type": "code",
      "source": [
        "#Printing their versions\n",
        "print(f\"Tensorflow Version {tf.__version__}\")\n",
        "print(f\"Keras Version {keras.__version__}\")"
      ],
      "metadata": {
        "colab": {
          "base_uri": "https://localhost:8080/"
        },
        "id": "A1GJM7PO02pS",
        "outputId": "d4ccf49b-fcd2-4731-ebee-6363473b28a4"
      },
      "execution_count": 2,
      "outputs": [
        {
          "output_type": "stream",
          "name": "stdout",
          "text": [
            "Tensorflow Version 2.17.1\n",
            "Keras Version 3.5.0\n"
          ]
        }
      ]
    },
    {
      "cell_type": "code",
      "source": [
        "ash_mnist = keras.datasets.fashion_mnist"
      ],
      "metadata": {
        "id": "Z-H1UAbq04by"
      },
      "execution_count": 4,
      "outputs": []
    },
    {
      "cell_type": "code",
      "source": [
        "(X_train_full,y_train_full),(X_test,y_test) = ash_mnist.load_data()"
      ],
      "metadata": {
        "id": "UxAoKkZw1Gzd"
      },
      "execution_count": 6,
      "outputs": []
    },
    {
      "cell_type": "code",
      "source": [
        "X_test.shape , X_train_full.shape"
      ],
      "metadata": {
        "colab": {
          "base_uri": "https://localhost:8080/"
        },
        "id": "MqNk_eGf1HdZ",
        "outputId": "3b8044c0-eec5-47a4-9cbb-a6e7a1464111"
      },
      "execution_count": 7,
      "outputs": [
        {
          "output_type": "execute_result",
          "data": {
            "text/plain": [
              "((10000, 28, 28), (60000, 28, 28))"
            ]
          },
          "metadata": {},
          "execution_count": 7
        }
      ]
    },
    {
      "cell_type": "code",
      "source": [
        "# create a validation data set from the full training data\n",
        "# Scale the data between 0 to 1 by dividing it by 255. as its an unsigned data between 0-255 range\n",
        "X_valid, X_train = (X_train_full[:5000] / 255) ,(X_train_full[5000:] / 255 )\n",
        "y_valid, y_train = y_train_full[:5000]  , y_train_full[5000:]\n",
        "\n",
        "# scale the test set as well\n",
        "X_test = X_test / 255"
      ],
      "metadata": {
        "id": "QiY74NcK1Nxv"
      },
      "execution_count": 8,
      "outputs": []
    },
    {
      "cell_type": "code",
      "source": [
        "# Lets view some data\n",
        "plt.imshow(X_train[2],cmap=\"binary\")\n",
        "plt.show()"
      ],
      "metadata": {
        "colab": {
          "base_uri": "https://localhost:8080/",
          "height": 430
        },
        "id": "yMaVAMdC1P0f",
        "outputId": "72265e34-bd89-44cc-de61-39fdf8ba037c"
      },
      "execution_count": 9,
      "outputs": [
        {
          "output_type": "display_data",
          "data": {
            "text/plain": [
              "<Figure size 640x480 with 1 Axes>"
            ],
            "image/png": "[encoded data removed]"
          },
          "metadata": {}
        }
      ]
    },
    {
      "cell_type": "code",
      "source": [],
      "metadata": {
        "id": "5NGDyPYZ1R6f"
      },
      "execution_count": null,
      "outputs": []
    },
    {
      "cell_type": "markdown",
      "source": [
        "### Without Dropout Layer"
      ],
      "metadata": {
        "id": "lCYUoWqG1UR7"
      }
    },
    {
      "cell_type": "code",
      "source": [
        "#Model Built without using Dropout Layer\n",
        "layer = [keras.layers.Flatten(input_shape=[28, 28]),\n",
        "         keras.layers.Dense(500, activation=\"relu\"),\n",
        "         keras.layers.Dense(300, activation=\"relu\"),\n",
        "         keras.layers.Dense(10, activation=\"softmax\")]\n",
        "\n",
        "model = keras.models.Sequential(layer)\n",
        "\n",
        "model.summary()"
      ],
      "metadata": {
        "colab": {
          "base_uri": "https://localhost:8080/",
          "height": 327
        },
        "id": "rVLTZsJb1U43",
        "outputId": "f3c80432-d593-4619-f089-17d0a7acea96"
      },
      "execution_count": 10,
      "outputs": [
        {
          "output_type": "stream",
          "name": "stderr",
          "text": [
            "/usr/local/lib/python3.10/dist-packages/keras/src/layers/reshaping/flatten.py:37: UserWarning: Do not pass an `input_shape`/`input_dim` argument to a layer. When using Sequential models, prefer using an `Input(shape)` object as the first layer in the model instead.\n",
            "  super().__init__(**kwargs)\n"
          ]
        },
        {
          "output_type": "display_data",
          "data": {
            "text/plain": [
              "\u001b[1mModel: \"sequential\"\u001b[0m\n"
            ],
            "text/html": [
              "<pre style=\"white-space:pre;overflow-x:auto;line-height:normal;font-family:Menlo,'DejaVu Sans Mono',consolas,'Courier New',monospace\"><span style=\"font-weight: bold\">Model: \"sequential\"</span>\n",
              "</pre>\n"
            ]
          },
          "metadata": {}
        },
        {
          "output_type": "display_data",
          "data": {
            "text/plain": [
              "┏━━━━━━━━━━━━━━━━━━━━━━━━━━━━━━━━━━━━━━┳━━━━━━━━━━━━━━━━━━━━━━━━━━━━━┳━━━━━━━━━━━━━━━━━┓\n",
              "┃\u001b[1m \u001b[0m\u001b[1mLayer (type)                        \u001b[0m\u001b[1m \u001b[0m┃\u001b[1m \u001b[0m\u001b[1mOutput Shape               \u001b[0m\u001b[1m \u001b[0m┃\u001b[1m \u001b[0m\u001b[1m        Param #\u001b[0m\u001b[1m \u001b[0m┃\n",
              "┡━━━━━━━━━━━━━━━━━━━━━━━━━━━━━━━━━━━━━━╇━━━━━━━━━━━━━━━━━━━━━━━━━━━━━╇━━━━━━━━━━━━━━━━━┩\n",
              "│ flatten (\u001b[38;5;33mFlatten\u001b[0m)                    │ (\u001b[38;5;45mNone\u001b[0m, \u001b[38;5;34m784\u001b[0m)                 │               \u001b[38;5;34m0\u001b[0m │\n",
              "├──────────────────────────────────────┼─────────────────────────────┼─────────────────┤\n",
              "│ dense (\u001b[38;5;33mDense\u001b[0m)                        │ (\u001b[38;5;45mNone\u001b[0m, \u001b[38;5;34m500\u001b[0m)                 │         \u001b[38;5;34m392,500\u001b[0m │\n",
              "├──────────────────────────────────────┼─────────────────────────────┼─────────────────┤\n",
              "│ dense_1 (\u001b[38;5;33mDense\u001b[0m)                      │ (\u001b[38;5;45mNone\u001b[0m, \u001b[38;5;34m300\u001b[0m)                 │         \u001b[38;5;34m150,300\u001b[0m │\n",
              "├──────────────────────────────────────┼─────────────────────────────┼─────────────────┤\n",
              "│ dense_2 (\u001b[38;5;33mDense\u001b[0m)                      │ (\u001b[38;5;45mNone\u001b[0m, \u001b[38;5;34m10\u001b[0m)                  │           \u001b[38;5;34m3,010\u001b[0m │\n",
              "└──────────────────────────────────────┴─────────────────────────────┴─────────────────┘\n"
            ],
            "text/html": [
              "<pre style=\"white-space:pre;overflow-x:auto;line-height:normal;font-family:Menlo,'DejaVu Sans Mono',consolas,'Courier New',monospace\">┏━━━━━━━━━━━━━━━━━━━━━━━━━━━━━━━━━━━━━━┳━━━━━━━━━━━━━━━━━━━━━━━━━━━━━┳━━━━━━━━━━━━━━━━━┓\n",
              "┃<span style=\"font-weight: bold\"> Layer (type)                         </span>┃<span style=\"font-weight: bold\"> Output Shape                </span>┃<span style=\"font-weight: bold\">         Param # </span>┃\n",
              "┡━━━━━━━━━━━━━━━━━━━━━━━━━━━━━━━━━━━━━━╇━━━━━━━━━━━━━━━━━━━━━━━━━━━━━╇━━━━━━━━━━━━━━━━━┩\n",
              "│ flatten (<span style=\"color: #0087ff; text-decoration-color: #0087ff\">Flatten</span>)                    │ (<span style=\"color: #00d7ff; text-decoration-color: #00d7ff\">None</span>, <span style=\"color: #00af00; text-decoration-color: #00af00\">784</span>)                 │               <span style=\"color: #00af00; text-decoration-color: #00af00\">0</span> │\n",
              "├──────────────────────────────────────┼─────────────────────────────┼─────────────────┤\n",
              "│ dense (<span style=\"color: #0087ff; text-decoration-color: #0087ff\">Dense</span>)                        │ (<span style=\"color: #00d7ff; text-decoration-color: #00d7ff\">None</span>, <span style=\"color: #00af00; text-decoration-color: #00af00\">500</span>)                 │         <span style=\"color: #00af00; text-decoration-color: #00af00\">392,500</span> │\n",
              "├──────────────────────────────────────┼─────────────────────────────┼─────────────────┤\n",
              "│ dense_1 (<span style=\"color: #0087ff; text-decoration-color: #0087ff\">Dense</span>)                      │ (<span style=\"color: #00d7ff; text-decoration-color: #00d7ff\">None</span>, <span style=\"color: #00af00; text-decoration-color: #00af00\">300</span>)                 │         <span style=\"color: #00af00; text-decoration-color: #00af00\">150,300</span> │\n",
              "├──────────────────────────────────────┼─────────────────────────────┼─────────────────┤\n",
              "│ dense_2 (<span style=\"color: #0087ff; text-decoration-color: #0087ff\">Dense</span>)                      │ (<span style=\"color: #00d7ff; text-decoration-color: #00d7ff\">None</span>, <span style=\"color: #00af00; text-decoration-color: #00af00\">10</span>)                  │           <span style=\"color: #00af00; text-decoration-color: #00af00\">3,010</span> │\n",
              "└──────────────────────────────────────┴─────────────────────────────┴─────────────────┘\n",
              "</pre>\n"
            ]
          },
          "metadata": {}
        },
        {
          "output_type": "display_data",
          "data": {
            "text/plain": [
              "\u001b[1m Total params: \u001b[0m\u001b[38;5;34m545,810\u001b[0m (2.08 MB)\n"
            ],
            "text/html": [
              "<pre style=\"white-space:pre;overflow-x:auto;line-height:normal;font-family:Menlo,'DejaVu Sans Mono',consolas,'Courier New',monospace\"><span style=\"font-weight: bold\"> Total params: </span><span style=\"color: #00af00; text-decoration-color: #00af00\">545,810</span> (2.08 MB)\n",
              "</pre>\n"
            ]
          },
          "metadata": {}
        },
        {
          "output_type": "display_data",
          "data": {
            "text/plain": [
              "\u001b[1m Trainable params: \u001b[0m\u001b[38;5;34m545,810\u001b[0m (2.08 MB)\n"
            ],
            "text/html": [
              "<pre style=\"white-space:pre;overflow-x:auto;line-height:normal;font-family:Menlo,'DejaVu Sans Mono',consolas,'Courier New',monospace\"><span style=\"font-weight: bold\"> Trainable params: </span><span style=\"color: #00af00; text-decoration-color: #00af00\">545,810</span> (2.08 MB)\n",
              "</pre>\n"
            ]
          },
          "metadata": {}
        },
        {
          "output_type": "display_data",
          "data": {
            "text/plain": [
              "\u001b[1m Non-trainable params: \u001b[0m\u001b[38;5;34m0\u001b[0m (0.00 B)\n"
            ],
            "text/html": [
              "<pre style=\"white-space:pre;overflow-x:auto;line-height:normal;font-family:Menlo,'DejaVu Sans Mono',consolas,'Courier New',monospace\"><span style=\"font-weight: bold\"> Non-trainable params: </span><span style=\"color: #00af00; text-decoration-color: #00af00\">0</span> (0.00 B)\n",
              "</pre>\n"
            ]
          },
          "metadata": {}
        }
      ]
    },
    {
      "cell_type": "code",
      "source": [
        "model.compile(loss=\"sparse_categorical_crossentropy\", optimizer=\"SGD\", metrics=[\"accuracy\"])\n",
        "\n",
        "history = model.fit(X_train, y_train,\n",
        "                    epochs=10,\n",
        "                    validation_data=(X_valid, y_valid),\n",
        "                    verbose=2)"
      ],
      "metadata": {
        "colab": {
          "base_uri": "https://localhost:8080/"
        },
        "id": "tp_dKiV41XCf",
        "outputId": "a5a370ef-762d-4813-fc64-ce9645730604"
      },
      "execution_count": 12,
      "outputs": [
        {
          "output_type": "stream",
          "name": "stdout",
          "text": [
            "Epoch 1/10\n",
            "1719/1719 - 16s - 9ms/step - accuracy: 0.8859 - loss: 0.3186 - val_accuracy: 0.8852 - val_loss: 0.3245\n",
            "Epoch 2/10\n",
            "1719/1719 - 15s - 9ms/step - accuracy: 0.8885 - loss: 0.3108 - val_accuracy: 0.8774 - val_loss: 0.3422\n",
            "Epoch 3/10\n",
            "1719/1719 - 8s - 5ms/step - accuracy: 0.8908 - loss: 0.3032 - val_accuracy: 0.8854 - val_loss: 0.3247\n",
            "Epoch 4/10\n",
            "1719/1719 - 10s - 6ms/step - accuracy: 0.8937 - loss: 0.2961 - val_accuracy: 0.8830 - val_loss: 0.3238\n",
            "Epoch 5/10\n",
            "1719/1719 - 10s - 6ms/step - accuracy: 0.8957 - loss: 0.2893 - val_accuracy: 0.8846 - val_loss: 0.3229\n",
            "Epoch 6/10\n",
            "1719/1719 - 9s - 5ms/step - accuracy: 0.8982 - loss: 0.2830 - val_accuracy: 0.8912 - val_loss: 0.3059\n",
            "Epoch 7/10\n",
            "1719/1719 - 11s - 6ms/step - accuracy: 0.9004 - loss: 0.2768 - val_accuracy: 0.8884 - val_loss: 0.3154\n",
            "Epoch 8/10\n",
            "1719/1719 - 11s - 6ms/step - accuracy: 0.9028 - loss: 0.2715 - val_accuracy: 0.8934 - val_loss: 0.3060\n",
            "Epoch 9/10\n",
            "1719/1719 - 10s - 6ms/step - accuracy: 0.9044 - loss: 0.2662 - val_accuracy: 0.8950 - val_loss: 0.3054\n",
            "Epoch 10/10\n",
            "1719/1719 - 8s - 5ms/step - accuracy: 0.9064 - loss: 0.2614 - val_accuracy: 0.8950 - val_loss: 0.2977\n"
          ]
        }
      ]
    },
    {
      "cell_type": "code",
      "source": [],
      "metadata": {
        "id": "vuF-Bhtc2bwf"
      },
      "execution_count": null,
      "outputs": []
    },
    {
      "cell_type": "markdown",
      "source": [
        "### With Dropout Layer"
      ],
      "metadata": {
        "id": "zo94VbxV2z-n"
      }
    },
    {
      "cell_type": "code",
      "source": [
        "#Model Built using Dropout Layer\n",
        "layers = [keras.layers.Flatten(input_shape=[28, 28]),\n",
        "         keras.layers.Dense(500, activation=\"relu\"),\n",
        "         keras.layers.Dropout(rate=0.2),\n",
        "         keras.layers.Dense(300, activation=\"relu\"),\n",
        "         keras.layers.Dropout(rate=0.15),\n",
        "         keras.layers.Dense(10, activation=\"softmax\")]\n",
        "\n",
        "model_dropout = keras.models.Sequential(layers)\n",
        "\n",
        "model_dropout.summary()"
      ],
      "metadata": {
        "colab": {
          "base_uri": "https://localhost:8080/",
          "height": 340
        },
        "id": "gntvyYGz20hi",
        "outputId": "3b0b6bb2-b62c-4c23-8a59-1427e033c4b1"
      },
      "execution_count": 13,
      "outputs": [
        {
          "output_type": "display_data",
          "data": {
            "text/plain": [
              "\u001b[1mModel: \"sequential_1\"\u001b[0m\n"
            ],
            "text/html": [
              "<pre style=\"white-space:pre;overflow-x:auto;line-height:normal;font-family:Menlo,'DejaVu Sans Mono',consolas,'Courier New',monospace\"><span style=\"font-weight: bold\">Model: \"sequential_1\"</span>\n",
              "</pre>\n"
            ]
          },
          "metadata": {}
        },
        {
          "output_type": "display_data",
          "data": {
            "text/plain": [
              "┏━━━━━━━━━━━━━━━━━━━━━━━━━━━━━━━━━━━━━━┳━━━━━━━━━━━━━━━━━━━━━━━━━━━━━┳━━━━━━━━━━━━━━━━━┓\n",
              "┃\u001b[1m \u001b[0m\u001b[1mLayer (type)                        \u001b[0m\u001b[1m \u001b[0m┃\u001b[1m \u001b[0m\u001b[1mOutput Shape               \u001b[0m\u001b[1m \u001b[0m┃\u001b[1m \u001b[0m\u001b[1m        Param #\u001b[0m\u001b[1m \u001b[0m┃\n",
              "┡━━━━━━━━━━━━━━━━━━━━━━━━━━━━━━━━━━━━━━╇━━━━━━━━━━━━━━━━━━━━━━━━━━━━━╇━━━━━━━━━━━━━━━━━┩\n",
              "│ flatten_1 (\u001b[38;5;33mFlatten\u001b[0m)                  │ (\u001b[38;5;45mNone\u001b[0m, \u001b[38;5;34m784\u001b[0m)                 │               \u001b[38;5;34m0\u001b[0m │\n",
              "├──────────────────────────────────────┼─────────────────────────────┼─────────────────┤\n",
              "│ dense_3 (\u001b[38;5;33mDense\u001b[0m)                      │ (\u001b[38;5;45mNone\u001b[0m, \u001b[38;5;34m500\u001b[0m)                 │         \u001b[38;5;34m392,500\u001b[0m │\n",
              "├──────────────────────────────────────┼─────────────────────────────┼─────────────────┤\n",
              "│ dropout (\u001b[38;5;33mDropout\u001b[0m)                    │ (\u001b[38;5;45mNone\u001b[0m, \u001b[38;5;34m500\u001b[0m)                 │               \u001b[38;5;34m0\u001b[0m │\n",
              "├──────────────────────────────────────┼─────────────────────────────┼─────────────────┤\n",
              "│ dense_4 (\u001b[38;5;33mDense\u001b[0m)                      │ (\u001b[38;5;45mNone\u001b[0m, \u001b[38;5;34m300\u001b[0m)                 │         \u001b[38;5;34m150,300\u001b[0m │\n",
              "├──────────────────────────────────────┼─────────────────────────────┼─────────────────┤\n",
              "│ dropout_1 (\u001b[38;5;33mDropout\u001b[0m)                  │ (\u001b[38;5;45mNone\u001b[0m, \u001b[38;5;34m300\u001b[0m)                 │               \u001b[38;5;34m0\u001b[0m │\n",
              "├──────────────────────────────────────┼─────────────────────────────┼─────────────────┤\n",
              "│ dense_5 (\u001b[38;5;33mDense\u001b[0m)                      │ (\u001b[38;5;45mNone\u001b[0m, \u001b[38;5;34m10\u001b[0m)                  │           \u001b[38;5;34m3,010\u001b[0m │\n",
              "└──────────────────────────────────────┴─────────────────────────────┴─────────────────┘\n"
            ],
            "text/html": [
              "<pre style=\"white-space:pre;overflow-x:auto;line-height:normal;font-family:Menlo,'DejaVu Sans Mono',consolas,'Courier New',monospace\">┏━━━━━━━━━━━━━━━━━━━━━━━━━━━━━━━━━━━━━━┳━━━━━━━━━━━━━━━━━━━━━━━━━━━━━┳━━━━━━━━━━━━━━━━━┓\n",
              "┃<span style=\"font-weight: bold\"> Layer (type)                         </span>┃<span style=\"font-weight: bold\"> Output Shape                </span>┃<span style=\"font-weight: bold\">         Param # </span>┃\n",
              "┡━━━━━━━━━━━━━━━━━━━━━━━━━━━━━━━━━━━━━━╇━━━━━━━━━━━━━━━━━━━━━━━━━━━━━╇━━━━━━━━━━━━━━━━━┩\n",
              "│ flatten_1 (<span style=\"color: #0087ff; text-decoration-color: #0087ff\">Flatten</span>)                  │ (<span style=\"color: #00d7ff; text-decoration-color: #00d7ff\">None</span>, <span style=\"color: #00af00; text-decoration-color: #00af00\">784</span>)                 │               <span style=\"color: #00af00; text-decoration-color: #00af00\">0</span> │\n",
              "├──────────────────────────────────────┼─────────────────────────────┼─────────────────┤\n",
              "│ dense_3 (<span style=\"color: #0087ff; text-decoration-color: #0087ff\">Dense</span>)                      │ (<span style=\"color: #00d7ff; text-decoration-color: #00d7ff\">None</span>, <span style=\"color: #00af00; text-decoration-color: #00af00\">500</span>)                 │         <span style=\"color: #00af00; text-decoration-color: #00af00\">392,500</span> │\n",
              "├──────────────────────────────────────┼─────────────────────────────┼─────────────────┤\n",
              "│ dropout (<span style=\"color: #0087ff; text-decoration-color: #0087ff\">Dropout</span>)                    │ (<span style=\"color: #00d7ff; text-decoration-color: #00d7ff\">None</span>, <span style=\"color: #00af00; text-decoration-color: #00af00\">500</span>)                 │               <span style=\"color: #00af00; text-decoration-color: #00af00\">0</span> │\n",
              "├──────────────────────────────────────┼─────────────────────────────┼─────────────────┤\n",
              "│ dense_4 (<span style=\"color: #0087ff; text-decoration-color: #0087ff\">Dense</span>)                      │ (<span style=\"color: #00d7ff; text-decoration-color: #00d7ff\">None</span>, <span style=\"color: #00af00; text-decoration-color: #00af00\">300</span>)                 │         <span style=\"color: #00af00; text-decoration-color: #00af00\">150,300</span> │\n",
              "├──────────────────────────────────────┼─────────────────────────────┼─────────────────┤\n",
              "│ dropout_1 (<span style=\"color: #0087ff; text-decoration-color: #0087ff\">Dropout</span>)                  │ (<span style=\"color: #00d7ff; text-decoration-color: #00d7ff\">None</span>, <span style=\"color: #00af00; text-decoration-color: #00af00\">300</span>)                 │               <span style=\"color: #00af00; text-decoration-color: #00af00\">0</span> │\n",
              "├──────────────────────────────────────┼─────────────────────────────┼─────────────────┤\n",
              "│ dense_5 (<span style=\"color: #0087ff; text-decoration-color: #0087ff\">Dense</span>)                      │ (<span style=\"color: #00d7ff; text-decoration-color: #00d7ff\">None</span>, <span style=\"color: #00af00; text-decoration-color: #00af00\">10</span>)                  │           <span style=\"color: #00af00; text-decoration-color: #00af00\">3,010</span> │\n",
              "└──────────────────────────────────────┴─────────────────────────────┴─────────────────┘\n",
              "</pre>\n"
            ]
          },
          "metadata": {}
        },
        {
          "output_type": "display_data",
          "data": {
            "text/plain": [
              "\u001b[1m Total params: \u001b[0m\u001b[38;5;34m545,810\u001b[0m (2.08 MB)\n"
            ],
            "text/html": [
              "<pre style=\"white-space:pre;overflow-x:auto;line-height:normal;font-family:Menlo,'DejaVu Sans Mono',consolas,'Courier New',monospace\"><span style=\"font-weight: bold\"> Total params: </span><span style=\"color: #00af00; text-decoration-color: #00af00\">545,810</span> (2.08 MB)\n",
              "</pre>\n"
            ]
          },
          "metadata": {}
        },
        {
          "output_type": "display_data",
          "data": {
            "text/plain": [
              "\u001b[1m Trainable params: \u001b[0m\u001b[38;5;34m545,810\u001b[0m (2.08 MB)\n"
            ],
            "text/html": [
              "<pre style=\"white-space:pre;overflow-x:auto;line-height:normal;font-family:Menlo,'DejaVu Sans Mono',consolas,'Courier New',monospace\"><span style=\"font-weight: bold\"> Trainable params: </span><span style=\"color: #00af00; text-decoration-color: #00af00\">545,810</span> (2.08 MB)\n",
              "</pre>\n"
            ]
          },
          "metadata": {}
        },
        {
          "output_type": "display_data",
          "data": {
            "text/plain": [
              "\u001b[1m Non-trainable params: \u001b[0m\u001b[38;5;34m0\u001b[0m (0.00 B)\n"
            ],
            "text/html": [
              "<pre style=\"white-space:pre;overflow-x:auto;line-height:normal;font-family:Menlo,'DejaVu Sans Mono',consolas,'Courier New',monospace\"><span style=\"font-weight: bold\"> Non-trainable params: </span><span style=\"color: #00af00; text-decoration-color: #00af00\">0</span> (0.00 B)\n",
              "</pre>\n"
            ]
          },
          "metadata": {}
        }
      ]
    },
    {
      "cell_type": "code",
      "source": [
        "model_dropout.compile(loss=\"sparse_categorical_crossentropy\", optimizer=\"SGD\", metrics=[\"accuracy\"])\n",
        "\n",
        "dropout_history = model_dropout.fit(X_train, y_train,\n",
        "                    epochs=10,\n",
        "                    validation_data=(X_valid, y_valid),\n",
        "                    verbose=2)"
      ],
      "metadata": {
        "colab": {
          "base_uri": "https://localhost:8080/"
        },
        "id": "SCB7YmBb22Vy",
        "outputId": "8d5e8ee3-c28e-44e7-bab9-4137b6a27aa6"
      },
      "execution_count": 14,
      "outputs": [
        {
          "output_type": "stream",
          "name": "stdout",
          "text": [
            "Epoch 1/10\n",
            "1719/1719 - 13s - 8ms/step - accuracy: 0.7406 - loss: 0.7713 - val_accuracy: 0.8272 - val_loss: 0.5137\n",
            "Epoch 2/10\n",
            "1719/1719 - 19s - 11ms/step - accuracy: 0.8170 - loss: 0.5279 - val_accuracy: 0.8418 - val_loss: 0.4500\n",
            "Epoch 3/10\n",
            "1719/1719 - 23s - 14ms/step - accuracy: 0.8339 - loss: 0.4711 - val_accuracy: 0.8628 - val_loss: 0.4086\n",
            "Epoch 4/10\n",
            "1719/1719 - 20s - 11ms/step - accuracy: 0.8458 - loss: 0.4377 - val_accuracy: 0.8654 - val_loss: 0.3858\n",
            "Epoch 5/10\n",
            "1719/1719 - 18s - 11ms/step - accuracy: 0.8527 - loss: 0.4136 - val_accuracy: 0.8632 - val_loss: 0.3790\n",
            "Epoch 6/10\n",
            "1719/1719 - 11s - 6ms/step - accuracy: 0.8584 - loss: 0.3964 - val_accuracy: 0.8742 - val_loss: 0.3614\n",
            "Epoch 7/10\n",
            "1719/1719 - 19s - 11ms/step - accuracy: 0.8635 - loss: 0.3816 - val_accuracy: 0.8758 - val_loss: 0.3531\n",
            "Epoch 8/10\n",
            "1719/1719 - 11s - 6ms/step - accuracy: 0.8677 - loss: 0.3682 - val_accuracy: 0.8790 - val_loss: 0.3412\n",
            "Epoch 9/10\n",
            "1719/1719 - 11s - 6ms/step - accuracy: 0.8709 - loss: 0.3577 - val_accuracy: 0.8802 - val_loss: 0.3353\n",
            "Epoch 10/10\n",
            "1719/1719 - 11s - 6ms/step - accuracy: 0.8742 - loss: 0.3494 - val_accuracy: 0.8810 - val_loss: 0.3277\n"
          ]
        }
      ]
    },
    {
      "cell_type": "markdown",
      "source": [
        "### Performance Comparision With & Without Using Dropout Layer"
      ],
      "metadata": {
        "id": "FGQprbV9295Y"
      }
    },
    {
      "cell_type": "code",
      "source": [
        "without_dropout_df = pd.DataFrame(history.history)\n",
        "dropout_df = pd.DataFrame(dropout_history.history)"
      ],
      "metadata": {
        "id": "OhQqQxaI2_DV"
      },
      "execution_count": 15,
      "outputs": []
    },
    {
      "cell_type": "code",
      "source": [
        "without_dropout_df"
      ],
      "metadata": {
        "colab": {
          "base_uri": "https://localhost:8080/",
          "height": 363
        },
        "id": "ILctxXNB3EFv",
        "outputId": "ab638ef5-cc5f-4fe1-8c6f-30c253049566"
      },
      "execution_count": 16,
      "outputs": [
        {
          "output_type": "execute_result",
          "data": {
            "text/plain": [
              "   accuracy      loss  val_accuracy  val_loss\n",
              "0  0.885909  0.318604        0.8852  0.324525\n",
              "1  0.888509  0.310781        0.8774  0.342245\n",
              "2  0.890818  0.303195        0.8854  0.324734\n",
              "3  0.893655  0.296092        0.8830  0.323790\n",
              "4  0.895745  0.289253        0.8846  0.322865\n",
              "5  0.898218  0.283043        0.8912  0.305908\n",
              "6  0.900436  0.276799        0.8884  0.315405\n",
              "7  0.902782  0.271520        0.8934  0.306031\n",
              "8  0.904364  0.266247        0.8950  0.305388\n",
              "9  0.906436  0.261372        0.8950  0.297681"
            ],
            "text/html": [
              "\n",
              "  <div id=\"df-ed039412-f217-4f29-b69d-f4c9a0eb1120\" class=\"colab-df-container\">\n",
              "    <div>\n",
              "<style scoped>\n",
              "    .dataframe tbody tr th:only-of-type {\n",
              "        vertical-align: middle;\n",
              "    }\n",
              "\n",
              "    .dataframe tbody tr th {\n",
              "        vertical-align: top;\n",
              "    }\n",
              "\n",
              "    .dataframe thead th {\n",
              "        text-align: right;\n",
              "    }\n",
              "</style>\n",
              "<table border=\"1\" class=\"dataframe\">\n",
              "  <thead>\n",
              "    <tr style=\"text-align: right;\">\n",
              "      <th></th>\n",
              "      <th>accuracy</th>\n",
              "      <th>loss</th>\n",
              "      <th>val_accuracy</th>\n",
              "      <th>val_loss</th>\n",
              "    </tr>\n",
              "  </thead>\n",
              "  <tbody>\n",
              "    <tr>\n",
              "      <th>0</th>\n",
              "      <td>0.885909</td>\n",
              "      <td>0.318604</td>\n",
              "      <td>0.8852</td>\n",
              "      <td>0.324525</td>\n",
              "    </tr>\n",
              "    <tr>\n",
              "      <th>1</th>\n",
              "      <td>0.888509</td>\n",
              "      <td>0.310781</td>\n",
              "      <td>0.8774</td>\n",
              "      <td>0.342245</td>\n",
              "    </tr>\n",
              "    <tr>\n",
              "      <th>2</th>\n",
              "      <td>0.890818</td>\n",
              "      <td>0.303195</td>\n",
              "      <td>0.8854</td>\n",
              "      <td>0.324734</td>\n",
              "    </tr>\n",
              "    <tr>\n",
              "      <th>3</th>\n",
              "      <td>0.893655</td>\n",
              "      <td>0.296092</td>\n",
              "      <td>0.8830</td>\n",
              "      <td>0.323790</td>\n",
              "    </tr>\n",
              "    <tr>\n",
              "      <th>4</th>\n",
              "      <td>0.895745</td>\n",
              "      <td>0.289253</td>\n",
              "      <td>0.8846</td>\n",
              "      <td>0.322865</td>\n",
              "    </tr>\n",
              "    <tr>\n",
              "      <th>5</th>\n",
              "      <td>0.898218</td>\n",
              "      <td>0.283043</td>\n",
              "      <td>0.8912</td>\n",
              "      <td>0.305908</td>\n",
              "    </tr>\n",
              "    <tr>\n",
              "      <th>6</th>\n",
              "      <td>0.900436</td>\n",
              "      <td>0.276799</td>\n",
              "      <td>0.8884</td>\n",
              "      <td>0.315405</td>\n",
              "    </tr>\n",
              "    <tr>\n",
              "      <th>7</th>\n",
              "      <td>0.902782</td>\n",
              "      <td>0.271520</td>\n",
              "      <td>0.8934</td>\n",
              "      <td>0.306031</td>\n",
              "    </tr>\n",
              "    <tr>\n",
              "      <th>8</th>\n",
              "      <td>0.904364</td>\n",
              "      <td>0.266247</td>\n",
              "      <td>0.8950</td>\n",
              "      <td>0.305388</td>\n",
              "    </tr>\n",
              "    <tr>\n",
              "      <th>9</th>\n",
              "      <td>0.906436</td>\n",
              "      <td>0.261372</td>\n",
              "      <td>0.8950</td>\n",
              "      <td>0.297681</td>\n",
              "    </tr>\n",
              "  </tbody>\n",
              "</table>\n",
              "</div>\n",
              "    <div class=\"colab-df-buttons\">\n",
              "\n",
              "  <div class=\"colab-df-container\">\n",
              "    <button class=\"colab-df-convert\" onclick=\"convertToInteractive('df-ed039412-f217-4f29-b69d-f4c9a0eb1120')\"\n",
              "            title=\"Convert this dataframe to an interactive table.\"\n",
              "            style=\"display:none;\">\n",
              "\n",
              "  <svg xmlns=\"http://www.w3.org/2000/svg\" height=\"24px\" viewBox=\"0 -960 960 960\">\n",
              "    <path d=\"M120-120v-720h720v720H120Zm60-500h600v-160H180v160Zm220 220h160v-160H400v160Zm0 220h160v-160H400v160ZM180-400h160v-160H180v160Zm440 0h160v-160H620v160ZM180-180h160v-160H180v160Zm440 0h160v-160H620v160Z\"/>\n",
              "  </svg>\n",
              "    </button>\n",
              "\n",
              "  <style>\n",
              "    .colab-df-container {\n",
              "      display:flex;\n",
              "      gap: 12px;\n",
              "    }\n",
              "\n",
              "    .colab-df-convert {\n",
              "      background-color: #E8F0FE;\n",
              "      border: none;\n",
              "      border-radius: 50%;\n",
              "      cursor: pointer;\n",
              "      display: none;\n",
              "      fill: #1967D2;\n",
              "      height: 32px;\n",
              "      padding: 0 0 0 0;\n",
              "      width: 32px;\n",
              "    }\n",
              "\n",
              "    .colab-df-convert:hover {\n",
              "      background-color: #E2EBFA;\n",
              "      box-shadow: 0px 1px 2px rgba(60, 64, 67, 0.3), 0px 1px 3px 1px rgba(60, 64, 67, 0.15);\n",
              "      fill: #174EA6;\n",
              "    }\n",
              "\n",
              "    .colab-df-buttons div {\n",
              "      margin-bottom: 4px;\n",
              "    }\n",
              "\n",
              "    [theme=dark] .colab-df-convert {\n",
              "      background-color: #3B4455;\n",
              "      fill: #D2E3FC;\n",
              "    }\n",
              "\n",
              "    [theme=dark] .colab-df-convert:hover {\n",
              "      background-color: #434B5C;\n",
              "      box-shadow: 0px 1px 3px 1px rgba(0, 0, 0, 0.15);\n",
              "      filter: drop-shadow(0px 1px 2px rgba(0, 0, 0, 0.3));\n",
              "      fill: #FFFFFF;\n",
              "    }\n",
              "  </style>\n",
              "\n",
              "    <script>\n",
              "      const buttonEl =\n",
              "        document.querySelector('#df-ed039412-f217-4f29-b69d-f4c9a0eb1120 button.colab-df-convert');\n",
              "      buttonEl.style.display =\n",
              "        google.colab.kernel.accessAllowed ? 'block' : 'none';\n",
              "\n",
              "      async function convertToInteractive(key) {\n",
              "        const element = document.querySelector('#df-ed039412-f217-4f29-b69d-f4c9a0eb1120');\n",
              "        const dataTable =\n",
              "          await google.colab.kernel.invokeFunction('convertToInteractive',\n",
              "                                                    [key], {});\n",
              "        if (!dataTable) return;\n",
              "\n",
              "        const docLinkHtml = 'Like what you see? Visit the ' +\n",
              "          '<a target=\"_blank\" href=https://colab.research.google.com/notebooks/data_table.ipynb>data table notebook</a>'\n",
              "          + ' to learn more about interactive tables.';\n",
              "        element.innerHTML = '';\n",
              "        dataTable['output_type'] = 'display_data';\n",
              "        await google.colab.output.renderOutput(dataTable, element);\n",
              "        const docLink = document.createElement('div');\n",
              "        docLink.innerHTML = docLinkHtml;\n",
              "        element.appendChild(docLink);\n",
              "      }\n",
              "    </script>\n",
              "  </div>\n",
              "\n",
              "\n",
              "<div id=\"df-e9694acc-372c-4848-93fd-f9df84c6252f\">\n",
              "  <button class=\"colab-df-quickchart\" onclick=\"quickchart('df-e9694acc-372c-4848-93fd-f9df84c6252f')\"\n",
              "            title=\"Suggest charts\"\n",
              "            style=\"display:none;\">\n",
              "\n",
              "<svg xmlns=\"http://www.w3.org/2000/svg\" height=\"24px\"viewBox=\"0 0 24 24\"\n",
              "     width=\"24px\">\n",
              "    <g>\n",
              "        <path d=\"M19 3H5c-1.1 0-2 .9-2 2v14c0 1.1.9 2 2 2h14c1.1 0 2-.9 2-2V5c0-1.1-.9-2-2-2zM9 17H7v-7h2v7zm4 0h-2V7h2v10zm4 0h-2v-4h2v4z\"/>\n",
              "    </g>\n",
              "</svg>\n",
              "  </button>\n",
              "\n",
              "<style>\n",
              "  .colab-df-quickchart {\n",
              "      --bg-color: #E8F0FE;\n",
              "      --fill-color: #1967D2;\n",
              "      --hover-bg-color: #E2EBFA;\n",
              "      --hover-fill-color: #174EA6;\n",
              "      --disabled-fill-color: #AAA;\n",
              "      --disabled-bg-color: #DDD;\n",
              "  }\n",
              "\n",
              "  [theme=dark] .colab-df-quickchart {\n",
              "      --bg-color: #3B4455;\n",
              "      --fill-color: #D2E3FC;\n",
              "      --hover-bg-color: #434B5C;\n",
              "      --hover-fill-color: #FFFFFF;\n",
              "      --disabled-bg-color: #3B4455;\n",
              "      --disabled-fill-color: #666;\n",
              "  }\n",
              "\n",
              "  .colab-df-quickchart {\n",
              "    background-color: var(--bg-color);\n",
              "    border: none;\n",
              "    border-radius: 50%;\n",
              "    cursor: pointer;\n",
              "    display: none;\n",
              "    fill: var(--fill-color);\n",
              "    height: 32px;\n",
              "    padding: 0;\n",
              "    width: 32px;\n",
              "  }\n",
              "\n",
              "  .colab-df-quickchart:hover {\n",
              "    background-color: var(--hover-bg-color);\n",
              "    box-shadow: 0 1px 2px rgba(60, 64, 67, 0.3), 0 1px 3px 1px rgba(60, 64, 67, 0.15);\n",
              "    fill: var(--button-hover-fill-color);\n",
              "  }\n",
              "\n",
              "  .colab-df-quickchart-complete:disabled,\n",
              "  .colab-df-quickchart-complete:disabled:hover {\n",
              "    background-color: var(--disabled-bg-color);\n",
              "    fill: var(--disabled-fill-color);\n",
              "    box-shadow: none;\n",
              "  }\n",
              "\n",
              "  .colab-df-spinner {\n",
              "    border: 2px solid var(--fill-color);\n",
              "    border-color: transparent;\n",
              "    border-bottom-color: var(--fill-color);\n",
              "    animation:\n",
              "      spin 1s steps(1) infinite;\n",
              "  }\n",
              "\n",
              "  @keyframes spin {\n",
              "    0% {\n",
              "      border-color: transparent;\n",
              "      border-bottom-color: var(--fill-color);\n",
              "      border-left-color: var(--fill-color);\n",
              "    }\n",
              "    20% {\n",
              "      border-color: transparent;\n",
              "      border-left-color: var(--fill-color);\n",
              "      border-top-color: var(--fill-color);\n",
              "    }\n",
              "    30% {\n",
              "      border-color: transparent;\n",
              "      border-left-color: var(--fill-color);\n",
              "      border-top-color: var(--fill-color);\n",
              "      border-right-color: var(--fill-color);\n",
              "    }\n",
              "    40% {\n",
              "      border-color: transparent;\n",
              "      border-right-color: var(--fill-color);\n",
              "      border-top-color: var(--fill-color);\n",
              "    }\n",
              "    60% {\n",
              "      border-color: transparent;\n",
              "      border-right-color: var(--fill-color);\n",
              "    }\n",
              "    80% {\n",
              "      border-color: transparent;\n",
              "      border-right-color: var(--fill-color);\n",
              "      border-bottom-color: var(--fill-color);\n",
              "    }\n",
              "    90% {\n",
              "      border-color: transparent;\n",
              "      border-bottom-color: var(--fill-color);\n",
              "    }\n",
              "  }\n",
              "</style>\n",
              "\n",
              "  <script>\n",
              "    async function quickchart(key) {\n",
              "      const quickchartButtonEl =\n",
              "        document.querySelector('#' + key + ' button');\n",
              "      quickchartButtonEl.disabled = true;  // To prevent multiple clicks.\n",
              "      quickchartButtonEl.classList.add('colab-df-spinner');\n",
              "      try {\n",
              "        const charts = await google.colab.kernel.invokeFunction(\n",
              "            'suggestCharts', [key], {});\n",
              "      } catch (error) {\n",
              "        console.error('Error during call to suggestCharts:', error);\n",
              "      }\n",
              "      quickchartButtonEl.classList.remove('colab-df-spinner');\n",
              "      quickchartButtonEl.classList.add('colab-df-quickchart-complete');\n",
              "    }\n",
              "    (() => {\n",
              "      let quickchartButtonEl =\n",
              "        document.querySelector('#df-e9694acc-372c-4848-93fd-f9df84c6252f button');\n",
              "      quickchartButtonEl.style.display =\n",
              "        google.colab.kernel.accessAllowed ? 'block' : 'none';\n",
              "    })();\n",
              "  </script>\n",
              "</div>\n",
              "\n",
              "  <div id=\"id_820d3a37-a902-4df7-8832-45fb3a9c970f\">\n",
              "    <style>\n",
              "      .colab-df-generate {\n",
              "        background-color: #E8F0FE;\n",
              "        border: none;\n",
              "        border-radius: 50%;\n",
              "        cursor: pointer;\n",
              "        display: none;\n",
              "        fill: #1967D2;\n",
              "        height: 32px;\n",
              "        padding: 0 0 0 0;\n",
              "        width: 32px;\n",
              "      }\n",
              "\n",
              "      .colab-df-generate:hover {\n",
              "        background-color: #E2EBFA;\n",
              "        box-shadow: 0px 1px 2px rgba(60, 64, 67, 0.3), 0px 1px 3px 1px rgba(60, 64, 67, 0.15);\n",
              "        fill: #174EA6;\n",
              "      }\n",
              "\n",
              "      [theme=dark] .colab-df-generate {\n",
              "        background-color: #3B4455;\n",
              "        fill: #D2E3FC;\n",
              "      }\n",
              "\n",
              "      [theme=dark] .colab-df-generate:hover {\n",
              "        background-color: #434B5C;\n",
              "        box-shadow: 0px 1px 3px 1px rgba(0, 0, 0, 0.15);\n",
              "        filter: drop-shadow(0px 1px 2px rgba(0, 0, 0, 0.3));\n",
              "        fill: #FFFFFF;\n",
              "      }\n",
              "    </style>\n",
              "    <button class=\"colab-df-generate\" onclick=\"generateWithVariable('without_dropout_df')\"\n",
              "            title=\"Generate code using this dataframe.\"\n",
              "            style=\"display:none;\">\n",
              "\n",
              "  <svg xmlns=\"http://www.w3.org/2000/svg\" height=\"24px\"viewBox=\"0 0 24 24\"\n",
              "       width=\"24px\">\n",
              "    <path d=\"M7,19H8.4L18.45,9,17,7.55,7,17.6ZM5,21V16.75L18.45,3.32a2,2,0,0,1,2.83,0l1.4,1.43a1.91,1.91,0,0,1,.58,1.4,1.91,1.91,0,0,1-.58,1.4L9.25,21ZM18.45,9,17,7.55Zm-12,3A5.31,5.31,0,0,0,4.9,8.1,5.31,5.31,0,0,0,1,6.5,5.31,5.31,0,0,0,4.9,4.9,5.31,5.31,0,0,0,6.5,1,5.31,5.31,0,0,0,8.1,4.9,5.31,5.31,0,0,0,12,6.5,5.46,5.46,0,0,0,6.5,12Z\"/>\n",
              "  </svg>\n",
              "    </button>\n",
              "    <script>\n",
              "      (() => {\n",
              "      const buttonEl =\n",
              "        document.querySelector('#id_820d3a37-a902-4df7-8832-45fb3a9c970f button.colab-df-generate');\n",
              "      buttonEl.style.display =\n",
              "        google.colab.kernel.accessAllowed ? 'block' : 'none';\n",
              "\n",
              "      buttonEl.onclick = () => {\n",
              "        google.colab.notebook.generateWithVariable('without_dropout_df');\n",
              "      }\n",
              "      })();\n",
              "    </script>\n",
              "  </div>\n",
              "\n",
              "    </div>\n",
              "  </div>\n"
            ],
            "application/vnd.google.colaboratory.intrinsic+json": {
              "type": "dataframe",
              "variable_name": "without_dropout_df",
              "summary": "{\n  \"name\": \"without_dropout_df\",\n  \"rows\": 10,\n  \"fields\": [\n    {\n      \"column\": \"accuracy\",\n      \"properties\": {\n        \"dtype\": \"number\",\n        \"std\": 0.006952996503680499,\n        \"min\": 0.8859090805053711,\n        \"max\": 0.9064363837242126,\n        \"num_unique_values\": 10,\n        \"samples\": [\n          0.9043636322021484,\n          0.8885090947151184,\n          0.8982181549072266\n        ],\n        \"semantic_type\": \"\",\n        \"description\": \"\"\n      }\n    },\n    {\n      \"column\": \"loss\",\n      \"properties\": {\n        \"dtype\": \"number\",\n        \"std\": 0.01931151996630256,\n        \"min\": 0.26137158274650574,\n        \"max\": 0.318603515625,\n        \"num_unique_values\": 10,\n        \"samples\": [\n          0.2662474811077118,\n          0.31078067421913147,\n          0.2830430865287781\n        ],\n        \"semantic_type\": \"\",\n        \"description\": \"\"\n      }\n    },\n    {\n      \"column\": \"val_accuracy\",\n      \"properties\": {\n        \"dtype\": \"number\",\n        \"std\": 0.005782001744961381,\n        \"min\": 0.8773999810218811,\n        \"max\": 0.8949999809265137,\n        \"num_unique_values\": 9,\n        \"samples\": [\n          0.8934000134468079,\n          0.8773999810218811,\n          0.8912000060081482\n        ],\n        \"semantic_type\": \"\",\n        \"description\": \"\"\n      }\n    },\n    {\n      \"column\": \"val_loss\",\n      \"properties\": {\n        \"dtype\": \"number\",\n        \"std\": 0.013283373544798605,\n        \"min\": 0.2976807951927185,\n        \"max\": 0.3422454297542572,\n        \"num_unique_values\": 10,\n        \"samples\": [\n          0.30538827180862427,\n          0.3422454297542572,\n          0.30590832233428955\n        ],\n        \"semantic_type\": \"\",\n        \"description\": \"\"\n      }\n    }\n  ]\n}"
            }
          },
          "metadata": {},
          "execution_count": 16
        }
      ]
    },
    {
      "cell_type": "code",
      "source": [
        "dropout_df"
      ],
      "metadata": {
        "colab": {
          "base_uri": "https://localhost:8080/",
          "height": 363
        },
        "id": "0UOuScTC3GKp",
        "outputId": "72af96e9-6c25-4eef-c887-2c7ae5c293cd"
      },
      "execution_count": 17,
      "outputs": [
        {
          "output_type": "execute_result",
          "data": {
            "text/plain": [
              "   accuracy      loss  val_accuracy  val_loss\n",
              "0  0.740582  0.771319        0.8272  0.513717\n",
              "1  0.817036  0.527905        0.8418  0.450033\n",
              "2  0.833927  0.471096        0.8628  0.408553\n",
              "3  0.845782  0.437743        0.8654  0.385837\n",
              "4  0.852673  0.413591        0.8632  0.379028\n",
              "5  0.858400  0.396362        0.8742  0.361367\n",
              "6  0.863545  0.381572        0.8758  0.353066\n",
              "7  0.867727  0.368224        0.8790  0.341240\n",
              "8  0.870855  0.357724        0.8802  0.335253\n",
              "9  0.874200  0.349403        0.8810  0.327690"
            ],
            "text/html": [
              "\n",
              "  <div id=\"df-9183c55e-22bb-4a6d-b829-2738e575ee92\" class=\"colab-df-container\">\n",
              "    <div>\n",
              "<style scoped>\n",
              "    .dataframe tbody tr th:only-of-type {\n",
              "        vertical-align: middle;\n",
              "    }\n",
              "\n",
              "    .dataframe tbody tr th {\n",
              "        vertical-align: top;\n",
              "    }\n",
              "\n",
              "    .dataframe thead th {\n",
              "        text-align: right;\n",
              "    }\n",
              "</style>\n",
              "<table border=\"1\" class=\"dataframe\">\n",
              "  <thead>\n",
              "    <tr style=\"text-align: right;\">\n",
              "      <th></th>\n",
              "      <th>accuracy</th>\n",
              "      <th>loss</th>\n",
              "      <th>val_accuracy</th>\n",
              "      <th>val_loss</th>\n",
              "    </tr>\n",
              "  </thead>\n",
              "  <tbody>\n",
              "    <tr>\n",
              "      <th>0</th>\n",
              "      <td>0.740582</td>\n",
              "      <td>0.771319</td>\n",
              "      <td>0.8272</td>\n",
              "      <td>0.513717</td>\n",
              "    </tr>\n",
              "    <tr>\n",
              "      <th>1</th>\n",
              "      <td>0.817036</td>\n",
              "      <td>0.527905</td>\n",
              "      <td>0.8418</td>\n",
              "      <td>0.450033</td>\n",
              "    </tr>\n",
              "    <tr>\n",
              "      <th>2</th>\n",
              "      <td>0.833927</td>\n",
              "      <td>0.471096</td>\n",
              "      <td>0.8628</td>\n",
              "      <td>0.408553</td>\n",
              "    </tr>\n",
              "    <tr>\n",
              "      <th>3</th>\n",
              "      <td>0.845782</td>\n",
              "      <td>0.437743</td>\n",
              "      <td>0.8654</td>\n",
              "      <td>0.385837</td>\n",
              "    </tr>\n",
              "    <tr>\n",
              "      <th>4</th>\n",
              "      <td>0.852673</td>\n",
              "      <td>0.413591</td>\n",
              "      <td>0.8632</td>\n",
              "      <td>0.379028</td>\n",
              "    </tr>\n",
              "    <tr>\n",
              "      <th>5</th>\n",
              "      <td>0.858400</td>\n",
              "      <td>0.396362</td>\n",
              "      <td>0.8742</td>\n",
              "      <td>0.361367</td>\n",
              "    </tr>\n",
              "    <tr>\n",
              "      <th>6</th>\n",
              "      <td>0.863545</td>\n",
              "      <td>0.381572</td>\n",
              "      <td>0.8758</td>\n",
              "      <td>0.353066</td>\n",
              "    </tr>\n",
              "    <tr>\n",
              "      <th>7</th>\n",
              "      <td>0.867727</td>\n",
              "      <td>0.368224</td>\n",
              "      <td>0.8790</td>\n",
              "      <td>0.341240</td>\n",
              "    </tr>\n",
              "    <tr>\n",
              "      <th>8</th>\n",
              "      <td>0.870855</td>\n",
              "      <td>0.357724</td>\n",
              "      <td>0.8802</td>\n",
              "      <td>0.335253</td>\n",
              "    </tr>\n",
              "    <tr>\n",
              "      <th>9</th>\n",
              "      <td>0.874200</td>\n",
              "      <td>0.349403</td>\n",
              "      <td>0.8810</td>\n",
              "      <td>0.327690</td>\n",
              "    </tr>\n",
              "  </tbody>\n",
              "</table>\n",
              "</div>\n",
              "    <div class=\"colab-df-buttons\">\n",
              "\n",
              "  <div class=\"colab-df-container\">\n",
              "    <button class=\"colab-df-convert\" onclick=\"convertToInteractive('df-9183c55e-22bb-4a6d-b829-2738e575ee92')\"\n",
              "            title=\"Convert this dataframe to an interactive table.\"\n",
              "            style=\"display:none;\">\n",
              "\n",
              "  <svg xmlns=\"http://www.w3.org/2000/svg\" height=\"24px\" viewBox=\"0 -960 960 960\">\n",
              "    <path d=\"M120-120v-720h720v720H120Zm60-500h600v-160H180v160Zm220 220h160v-160H400v160Zm0 220h160v-160H400v160ZM180-400h160v-160H180v160Zm440 0h160v-160H620v160ZM180-180h160v-160H180v160Zm440 0h160v-160H620v160Z\"/>\n",
              "  </svg>\n",
              "    </button>\n",
              "\n",
              "  <style>\n",
              "    .colab-df-container {\n",
              "      display:flex;\n",
              "      gap: 12px;\n",
              "    }\n",
              "\n",
              "    .colab-df-convert {\n",
              "      background-color: #E8F0FE;\n",
              "      border: none;\n",
              "      border-radius: 50%;\n",
              "      cursor: pointer;\n",
              "      display: none;\n",
              "      fill: #1967D2;\n",
              "      height: 32px;\n",
              "      padding: 0 0 0 0;\n",
              "      width: 32px;\n",
              "    }\n",
              "\n",
              "    .colab-df-convert:hover {\n",
              "      background-color: #E2EBFA;\n",
              "      box-shadow: 0px 1px 2px rgba(60, 64, 67, 0.3), 0px 1px 3px 1px rgba(60, 64, 67, 0.15);\n",
              "      fill: #174EA6;\n",
              "    }\n",
              "\n",
              "    .colab-df-buttons div {\n",
              "      margin-bottom: 4px;\n",
              "    }\n",
              "\n",
              "    [theme=dark] .colab-df-convert {\n",
              "      background-color: #3B4455;\n",
              "      fill: #D2E3FC;\n",
              "    }\n",
              "\n",
              "    [theme=dark] .colab-df-convert:hover {\n",
              "      background-color: #434B5C;\n",
              "      box-shadow: 0px 1px 3px 1px rgba(0, 0, 0, 0.15);\n",
              "      filter: drop-shadow(0px 1px 2px rgba(0, 0, 0, 0.3));\n",
              "      fill: #FFFFFF;\n",
              "    }\n",
              "  </style>\n",
              "\n",
              "    <script>\n",
              "      const buttonEl =\n",
              "        document.querySelector('#df-9183c55e-22bb-4a6d-b829-2738e575ee92 button.colab-df-convert');\n",
              "      buttonEl.style.display =\n",
              "        google.colab.kernel.accessAllowed ? 'block' : 'none';\n",
              "\n",
              "      async function convertToInteractive(key) {\n",
              "        const element = document.querySelector('#df-9183c55e-22bb-4a6d-b829-2738e575ee92');\n",
              "        const dataTable =\n",
              "          await google.colab.kernel.invokeFunction('convertToInteractive',\n",
              "                                                    [key], {});\n",
              "        if (!dataTable) return;\n",
              "\n",
              "        const docLinkHtml = 'Like what you see? Visit the ' +\n",
              "          '<a target=\"_blank\" href=https://colab.research.google.com/notebooks/data_table.ipynb>data table notebook</a>'\n",
              "          + ' to learn more about interactive tables.';\n",
              "        element.innerHTML = '';\n",
              "        dataTable['output_type'] = 'display_data';\n",
              "        await google.colab.output.renderOutput(dataTable, element);\n",
              "        const docLink = document.createElement('div');\n",
              "        docLink.innerHTML = docLinkHtml;\n",
              "        element.appendChild(docLink);\n",
              "      }\n",
              "    </script>\n",
              "  </div>\n",
              "\n",
              "\n",
              "<div id=\"df-1f594c6a-6772-44c1-99f6-3a3a6e02cd89\">\n",
              "  <button class=\"colab-df-quickchart\" onclick=\"quickchart('df-1f594c6a-6772-44c1-99f6-3a3a6e02cd89')\"\n",
              "            title=\"Suggest charts\"\n",
              "            style=\"display:none;\">\n",
              "\n",
              "<svg xmlns=\"http://www.w3.org/2000/svg\" height=\"24px\"viewBox=\"0 0 24 24\"\n",
              "     width=\"24px\">\n",
              "    <g>\n",
              "        <path d=\"M19 3H5c-1.1 0-2 .9-2 2v14c0 1.1.9 2 2 2h14c1.1 0 2-.9 2-2V5c0-1.1-.9-2-2-2zM9 17H7v-7h2v7zm4 0h-2V7h2v10zm4 0h-2v-4h2v4z\"/>\n",
              "    </g>\n",
              "</svg>\n",
              "  </button>\n",
              "\n",
              "<style>\n",
              "  .colab-df-quickchart {\n",
              "      --bg-color: #E8F0FE;\n",
              "      --fill-color: #1967D2;\n",
              "      --hover-bg-color: #E2EBFA;\n",
              "      --hover-fill-color: #174EA6;\n",
              "      --disabled-fill-color: #AAA;\n",
              "      --disabled-bg-color: #DDD;\n",
              "  }\n",
              "\n",
              "  [theme=dark] .colab-df-quickchart {\n",
              "      --bg-color: #3B4455;\n",
              "      --fill-color: #D2E3FC;\n",
              "      --hover-bg-color: #434B5C;\n",
              "      --hover-fill-color: #FFFFFF;\n",
              "      --disabled-bg-color: #3B4455;\n",
              "      --disabled-fill-color: #666;\n",
              "  }\n",
              "\n",
              "  .colab-df-quickchart {\n",
              "    background-color: var(--bg-color);\n",
              "    border: none;\n",
              "    border-radius: 50%;\n",
              "    cursor: pointer;\n",
              "    display: none;\n",
              "    fill: var(--fill-color);\n",
              "    height: 32px;\n",
              "    padding: 0;\n",
              "    width: 32px;\n",
              "  }\n",
              "\n",
              "  .colab-df-quickchart:hover {\n",
              "    background-color: var(--hover-bg-color);\n",
              "    box-shadow: 0 1px 2px rgba(60, 64, 67, 0.3), 0 1px 3px 1px rgba(60, 64, 67, 0.15);\n",
              "    fill: var(--button-hover-fill-color);\n",
              "  }\n",
              "\n",
              "  .colab-df-quickchart-complete:disabled,\n",
              "  .colab-df-quickchart-complete:disabled:hover {\n",
              "    background-color: var(--disabled-bg-color);\n",
              "    fill: var(--disabled-fill-color);\n",
              "    box-shadow: none;\n",
              "  }\n",
              "\n",
              "  .colab-df-spinner {\n",
              "    border: 2px solid var(--fill-color);\n",
              "    border-color: transparent;\n",
              "    border-bottom-color: var(--fill-color);\n",
              "    animation:\n",
              "      spin 1s steps(1) infinite;\n",
              "  }\n",
              "\n",
              "  @keyframes spin {\n",
              "    0% {\n",
              "      border-color: transparent;\n",
              "      border-bottom-color: var(--fill-color);\n",
              "      border-left-color: var(--fill-color);\n",
              "    }\n",
              "    20% {\n",
              "      border-color: transparent;\n",
              "      border-left-color: var(--fill-color);\n",
              "      border-top-color: var(--fill-color);\n",
              "    }\n",
              "    30% {\n",
              "      border-color: transparent;\n",
              "      border-left-color: var(--fill-color);\n",
              "      border-top-color: var(--fill-color);\n",
              "      border-right-color: var(--fill-color);\n",
              "    }\n",
              "    40% {\n",
              "      border-color: transparent;\n",
              "      border-right-color: var(--fill-color);\n",
              "      border-top-color: var(--fill-color);\n",
              "    }\n",
              "    60% {\n",
              "      border-color: transparent;\n",
              "      border-right-color: var(--fill-color);\n",
              "    }\n",
              "    80% {\n",
              "      border-color: transparent;\n",
              "      border-right-color: var(--fill-color);\n",
              "      border-bottom-color: var(--fill-color);\n",
              "    }\n",
              "    90% {\n",
              "      border-color: transparent;\n",
              "      border-bottom-color: var(--fill-color);\n",
              "    }\n",
              "  }\n",
              "</style>\n",
              "\n",
              "  <script>\n",
              "    async function quickchart(key) {\n",
              "      const quickchartButtonEl =\n",
              "        document.querySelector('#' + key + ' button');\n",
              "      quickchartButtonEl.disabled = true;  // To prevent multiple clicks.\n",
              "      quickchartButtonEl.classList.add('colab-df-spinner');\n",
              "      try {\n",
              "        const charts = await google.colab.kernel.invokeFunction(\n",
              "            'suggestCharts', [key], {});\n",
              "      } catch (error) {\n",
              "        console.error('Error during call to suggestCharts:', error);\n",
              "      }\n",
              "      quickchartButtonEl.classList.remove('colab-df-spinner');\n",
              "      quickchartButtonEl.classList.add('colab-df-quickchart-complete');\n",
              "    }\n",
              "    (() => {\n",
              "      let quickchartButtonEl =\n",
              "        document.querySelector('#df-1f594c6a-6772-44c1-99f6-3a3a6e02cd89 button');\n",
              "      quickchartButtonEl.style.display =\n",
              "        google.colab.kernel.accessAllowed ? 'block' : 'none';\n",
              "    })();\n",
              "  </script>\n",
              "</div>\n",
              "\n",
              "  <div id=\"id_bf37c30a-0177-4179-bf51-c0fe4e332db5\">\n",
              "    <style>\n",
              "      .colab-df-generate {\n",
              "        background-color: #E8F0FE;\n",
              "        border: none;\n",
              "        border-radius: 50%;\n",
              "        cursor: pointer;\n",
              "        display: none;\n",
              "        fill: #1967D2;\n",
              "        height: 32px;\n",
              "        padding: 0 0 0 0;\n",
              "        width: 32px;\n",
              "      }\n",
              "\n",
              "      .colab-df-generate:hover {\n",
              "        background-color: #E2EBFA;\n",
              "        box-shadow: 0px 1px 2px rgba(60, 64, 67, 0.3), 0px 1px 3px 1px rgba(60, 64, 67, 0.15);\n",
              "        fill: #174EA6;\n",
              "      }\n",
              "\n",
              "      [theme=dark] .colab-df-generate {\n",
              "        background-color: #3B4455;\n",
              "        fill: #D2E3FC;\n",
              "      }\n",
              "\n",
              "      [theme=dark] .colab-df-generate:hover {\n",
              "        background-color: #434B5C;\n",
              "        box-shadow: 0px 1px 3px 1px rgba(0, 0, 0, 0.15);\n",
              "        filter: drop-shadow(0px 1px 2px rgba(0, 0, 0, 0.3));\n",
              "        fill: #FFFFFF;\n",
              "      }\n",
              "    </style>\n",
              "    <button class=\"colab-df-generate\" onclick=\"generateWithVariable('dropout_df')\"\n",
              "            title=\"Generate code using this dataframe.\"\n",
              "            style=\"display:none;\">\n",
              "\n",
              "  <svg xmlns=\"http://www.w3.org/2000/svg\" height=\"24px\"viewBox=\"0 0 24 24\"\n",
              "       width=\"24px\">\n",
              "    <path d=\"M7,19H8.4L18.45,9,17,7.55,7,17.6ZM5,21V16.75L18.45,3.32a2,2,0,0,1,2.83,0l1.4,1.43a1.91,1.91,0,0,1,.58,1.4,1.91,1.91,0,0,1-.58,1.4L9.25,21ZM18.45,9,17,7.55Zm-12,3A5.31,5.31,0,0,0,4.9,8.1,5.31,5.31,0,0,0,1,6.5,5.31,5.31,0,0,0,4.9,4.9,5.31,5.31,0,0,0,6.5,1,5.31,5.31,0,0,0,8.1,4.9,5.31,5.31,0,0,0,12,6.5,5.46,5.46,0,0,0,6.5,12Z\"/>\n",
              "  </svg>\n",
              "    </button>\n",
              "    <script>\n",
              "      (() => {\n",
              "      const buttonEl =\n",
              "        document.querySelector('#id_bf37c30a-0177-4179-bf51-c0fe4e332db5 button.colab-df-generate');\n",
              "      buttonEl.style.display =\n",
              "        google.colab.kernel.accessAllowed ? 'block' : 'none';\n",
              "\n",
              "      buttonEl.onclick = () => {\n",
              "        google.colab.notebook.generateWithVariable('dropout_df');\n",
              "      }\n",
              "      })();\n",
              "    </script>\n",
              "  </div>\n",
              "\n",
              "    </div>\n",
              "  </div>\n"
            ],
            "application/vnd.google.colaboratory.intrinsic+json": {
              "type": "dataframe",
              "variable_name": "dropout_df",
              "summary": "{\n  \"name\": \"dropout_df\",\n  \"rows\": 10,\n  \"fields\": [\n    {\n      \"column\": \"accuracy\",\n      \"properties\": {\n        \"dtype\": \"number\",\n        \"std\": 0.03995060774967856,\n        \"min\": 0.7405818104743958,\n        \"max\": 0.8741999864578247,\n        \"num_unique_values\": 10,\n        \"samples\": [\n          0.8708545565605164,\n          0.8170363903045654,\n          0.8583999872207642\n        ],\n        \"semantic_type\": \"\",\n        \"description\": \"\"\n      }\n    },\n    {\n      \"column\": \"loss\",\n      \"properties\": {\n        \"dtype\": \"number\",\n        \"std\": 0.1265151478205216,\n        \"min\": 0.3494028151035309,\n        \"max\": 0.7713192701339722,\n        \"num_unique_values\": 10,\n        \"samples\": [\n          0.3577243685722351,\n          0.5279045701026917,\n          0.3963615298271179\n        ],\n        \"semantic_type\": \"\",\n        \"description\": \"\"\n      }\n    },\n    {\n      \"column\": \"val_accuracy\",\n      \"properties\": {\n        \"dtype\": \"number\",\n        \"std\": 0.017825094870913844,\n        \"min\": 0.8271999955177307,\n        \"max\": 0.8809999823570251,\n        \"num_unique_values\": 10,\n        \"samples\": [\n          0.8802000284194946,\n          0.8417999744415283,\n          0.8741999864578247\n        ],\n        \"semantic_type\": \"\",\n        \"description\": \"\"\n      }\n    },\n    {\n      \"column\": \"val_loss\",\n      \"properties\": {\n        \"dtype\": \"number\",\n        \"std\": 0.05834515724453802,\n        \"min\": 0.3276897072792053,\n        \"max\": 0.5137165188789368,\n        \"num_unique_values\": 10,\n        \"samples\": [\n          0.33525270223617554,\n          0.45003271102905273,\n          0.36136654019355774\n        ],\n        \"semantic_type\": \"\",\n        \"description\": \"\"\n      }\n    }\n  ]\n}"
            }
          },
          "metadata": {},
          "execution_count": 17
        }
      ]
    },
    {
      "cell_type": "code",
      "source": [
        "# Plot training accuracy with and without dropout layer\n",
        "plt.plot(without_dropout_df['accuracy'], label='Without Drop Layer Accuracy')\n",
        "plt.plot(dropout_df['accuracy'], label='With Drop Layer Accuracy')\n",
        "plt.xlabel('Epochs')\n",
        "plt.ylabel('Accuracy')\n",
        "plt.legend(loc='lower right')\n",
        "plt.show()"
      ],
      "metadata": {
        "colab": {
          "base_uri": "https://localhost:8080/",
          "height": 449
        },
        "id": "b_yyiDkO3H-7",
        "outputId": "72a2be3d-b648-4a3a-f1b6-99c93c2ea06c"
      },
      "execution_count": 18,
      "outputs": [
        {
          "output_type": "display_data",
          "data": {
            "text/plain": [
              "<Figure size 640x480 with 1 Axes>"
            ],
            "image/png": "[encoded data removed]"
          },
          "metadata": {}
        }
      ]
    },
    {
      "cell_type": "code",
      "source": [
        "# Plot validation accuracy with and without dropout layer\n",
        "plt.plot(without_dropout_df['val_accuracy'], label='Without Drop Layer Accuracy')\n",
        "plt.plot(dropout_df['val_accuracy'], label='With Drop Layer Accuracy')\n",
        "plt.xlabel('Epochs')\n",
        "plt.ylabel('Validation Accuracy')\n",
        "plt.legend(loc='lower right')\n",
        "plt.show()"
      ],
      "metadata": {
        "colab": {
          "base_uri": "https://localhost:8080/",
          "height": 449
        },
        "id": "NdnoZud93KBW",
        "outputId": "ae3937b5-b2b9-4670-8912-ec393a86f0b3"
      },
      "execution_count": 19,
      "outputs": [
        {
          "output_type": "display_data",
          "data": {
            "text/plain": [
              "<Figure size 640x480 with 1 Axes>"
            ],
            "image/png": "[encoded data removed]"
          },
          "metadata": {}
        }
      ]
    },
    {
      "cell_type": "code",
      "source": [
        "# Plot training loss with and without dropout layer\n",
        "plt.plot(without_dropout_df['loss'], label='Without Drop Layer Loss')\n",
        "plt.plot(dropout_df['loss'], label='With Drop Layer Loss')\n",
        "plt.xlabel('Epochs')\n",
        "plt.ylabel('Loss')\n",
        "plt.legend(loc='lower right')\n",
        "plt.show()"
      ],
      "metadata": {
        "colab": {
          "base_uri": "https://localhost:8080/",
          "height": 449
        },
        "id": "PqzulywT3MOP",
        "outputId": "e12934d4-c31b-4a9b-c7d2-4e574ffb5b63"
      },
      "execution_count": 20,
      "outputs": [
        {
          "output_type": "display_data",
          "data": {
            "text/plain": [
              "<Figure size 640x480 with 1 Axes>"
            ],
            "image/png": "[encoded data removed]"
          },
          "metadata": {}
        }
      ]
    },
    {
      "cell_type": "code",
      "source": [
        "# Plot validation loss with and without dropout layer\n",
        "plt.plot(without_dropout_df['val_loss'], label='Without Drop Layer Loss')\n",
        "plt.plot(dropout_df['val_loss'], label='With Drop Layer Loss')\n",
        "plt.xlabel('Epochs')\n",
        "plt.ylabel('Validation Loss')\n",
        "plt.legend(loc='lower right')\n",
        "plt.show()"
      ],
      "metadata": {
        "colab": {
          "base_uri": "https://localhost:8080/",
          "height": 449
        },
        "id": "ztiBmo3U3N8t",
        "outputId": "a75d2fb9-871a-4ba8-ebc3-717b97f44d00"
      },
      "execution_count": 21,
      "outputs": [
        {
          "output_type": "display_data",
          "data": {
            "text/plain": [
              "<Figure size 640x480 with 1 Axes>"
            ],
            "image/png": "[encoded data removed]"
          },
          "metadata": {}
        }
      ]
    },
    {
      "cell_type": "markdown",
      "source": [
        "## Q10. Discuss the considerations and tradeoffs when choosing the appropriate regularization technique for a given deep learning task.\n",
        "\n",
        "Ans = The Considerations for choosing the appropriate regularization technique for a deep learning task are:\n",
        "\n",
        "1. **Data Size:**\n",
        "   - If you have a small dataset, regularization is crucial to prevent overfitting. Techniques like dropout, L1/L2 regularization, and early stopping can be effective.\n",
        "   - For large datasets, regularization may be less critical, and you might prioritize other factors such as model capacity.\n",
        "\n",
        "2. **Model Complexity:**\n",
        "   - More complex models (e.g., deep neural networks) are more prone to overfitting and may require stronger regularization.\n",
        "   - Simpler models (e.g., linear models) may not require as much regularization.\n",
        "\n",
        "3. **Type of Data:**\n",
        "   - The nature of the data can influence regularization choice. For image data, data augmentation and dropout are common. For text data, dropout and LSTMs with recurrent dropout can be useful.\n",
        "   - For structured/tabular data, L1/L2 regularization or dropout on dense layers may be effective.\n",
        "\n",
        "4. **Overfitting Risk:**\n",
        "   - Assess the risk of overfitting based on the problem complexity and the available data. If overfitting is likely, stronger regularization may be needed.\n",
        "\n",
        "5. **Interpretability:**\n",
        "   - Some regularization techniques, like L1 regularization, lead to sparsity and feature selection, making the model more interpretable. Consider the interpretability requirements of your application.\n",
        "\n",
        "6. **Training Time:**\n",
        "   - Some regularization techniques, like dropout, can increase training time due to the stochastic nature of training. Consider computational resources and time constraints.\n",
        "\n",
        "7. **Hyperparameter Tuning:**\n",
        "   - Regularization techniques often have hyperparameters (e.g., dropout rate, regularization strength). Tuning these hyperparameters is essential to finding the right balance between underfitting and overfitting.\n",
        "\n",
        "8. **Ensemble Methods:**\n",
        "   - Consider using ensemble methods like bagging or boosting, which can act as regularization by combining multiple models' predictions.\n",
        "\n",
        "9. **Domain Knowledge:**\n",
        "   - Consider domain-specific knowledge. Some techniques may align better with domain-specific insights.\n",
        "\n",
        "10. **Validation Performance:**\n",
        "    - Monitor validation performance and adjust regularization during training. Early stopping can be used to determine when to stop training to prevent overfitting.\n",
        "\n",
        "11. **Balancing Act:**\n",
        "    - Regularization is a balancing act between bias and variance. Strong regularization reduces overfitting but may increase bias, while weak regularization may not be sufficient to prevent overfitting."
      ],
      "metadata": {
        "id": "NxnDate-3QqV"
      }
    },
    {
      "cell_type": "code",
      "source": [],
      "metadata": {
        "id": "NDhGFRfi3V2N"
      },
      "execution_count": null,
      "outputs": []
    }
  ]
}